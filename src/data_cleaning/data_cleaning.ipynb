{
 "cells": [
  {
   "cell_type": "code",
   "execution_count": null,
   "metadata": {},
   "outputs": [],
   "source": [
    "# imports\n",
    "import datetime\n",
    "\n",
    "import pandas as pd\n",
    "\n",
    "from pathlib import Path"
   ]
  },
  {
   "cell_type": "code",
   "execution_count": null,
   "metadata": {},
   "outputs": [],
   "source": [
    "# loading data\n",
    "path = Path('../../data/raw_data/google_books_dataset.csv')\n",
    "data = pd.read_csv(path, index_col=0)\n",
    "\n",
    "# showing first 5 rows\n",
    "data.head()"
   ]
  },
  {
   "cell_type": "code",
   "execution_count": null,
   "metadata": {},
   "outputs": [],
   "source": [
    "# basic information about data\n",
    "data.info()"
   ]
  },
  {
   "cell_type": "code",
   "execution_count": null,
   "metadata": {},
   "outputs": [],
   "source": [
    "# drop column with lots of NaN values\n",
    "data = data.drop(columns='averageRating')\n",
    "\n",
    "# formating published date and drop if data have future published date\n",
    "data['publishedDate'] = pd.to_datetime(data['publishedDate'], errors='coerce', format='%Y-%m-%d')\n",
    "data = data[data['publishedDate'].dt.date <= datetime.datetime.now().date()]\n",
    "\n",
    "# drop NaN values\n",
    "data = data.dropna()\n",
    "\n",
    "# drop ducplicated rows\n",
    "data = data.drop_duplicates()\n",
    "\n",
    "# sort and show first 5 rows to check publishedDate (if the date is not too old)\n",
    "data = data.sort_values(by='publishedDate', ascending=True).reset_index(drop=True)\n",
    "data.head()"
   ]
  },
  {
   "cell_type": "code",
   "execution_count": null,
   "metadata": {},
   "outputs": [],
   "source": [
    "# basic information about rest of the data\n",
    "data.info()"
   ]
  },
  {
   "cell_type": "code",
   "execution_count": null,
   "metadata": {},
   "outputs": [],
   "source": [
    "# checking not unique title values\n",
    "counts = data['title'].value_counts()\n",
    "not_unique_data = data[data['title'].isin(counts[counts > 1].index)]\n",
    "\n",
    "not_unique_data"
   ]
  },
  {
   "cell_type": "code",
   "execution_count": null,
   "metadata": {},
   "outputs": [],
   "source": [
    "# don't know which book is better to keep in dataset => drop all 4 books\n",
    "data = data.drop_duplicates(subset=['title'], keep=False).reset_index(drop=True)"
   ]
  },
  {
   "cell_type": "code",
   "execution_count": null,
   "metadata": {},
   "outputs": [],
   "source": [
    "# basic information about rest of the data\n",
    "data.info()"
   ]
  },
  {
   "cell_type": "code",
   "execution_count": null,
   "metadata": {},
   "outputs": [],
   "source": [
    "# saving final dataset\n",
    "output_path = Path('../../data/clean_data/books.csv')\n",
    "output_path.parent.mkdir(exist_ok=True, parents=True)\n",
    "data.to_csv(output_path, index=False)"
   ]
  }
 ],
 "metadata": {
  "kernelspec": {
   "display_name": ".venv",
   "language": "python",
   "name": "python3"
  },
  "language_info": {
   "codemirror_mode": {
    "name": "ipython",
    "version": 3
   },
   "file_extension": ".py",
   "mimetype": "text/x-python",
   "name": "python",
   "nbconvert_exporter": "python",
   "pygments_lexer": "ipython3",
   "version": "3.12.4"
  }
 },
 "nbformat": 4,
 "nbformat_minor": 2
}
